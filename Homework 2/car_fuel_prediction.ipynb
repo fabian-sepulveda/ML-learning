{
 "cells": [
  {
   "cell_type": "code",
   "execution_count": 129,
   "id": "1fa9616a",
   "metadata": {},
   "outputs": [],
   "source": [
    "import pandas as pd \n",
    "import numpy as np\n",
    "import matplotlib.pyplot as plt\n",
    "import seaborn as sns\n",
    "\n",
    "%matplotlib inline"
   ]
  },
  {
   "cell_type": "code",
   "execution_count": 130,
   "id": "1b5c48bc",
   "metadata": {},
   "outputs": [
    {
     "data": {
      "text/html": [
       "<div>\n",
       "<style scoped>\n",
       "    .dataframe tbody tr th:only-of-type {\n",
       "        vertical-align: middle;\n",
       "    }\n",
       "\n",
       "    .dataframe tbody tr th {\n",
       "        vertical-align: top;\n",
       "    }\n",
       "\n",
       "    .dataframe thead th {\n",
       "        text-align: right;\n",
       "    }\n",
       "</style>\n",
       "<table border=\"1\" class=\"dataframe\">\n",
       "  <thead>\n",
       "    <tr style=\"text-align: right;\">\n",
       "      <th></th>\n",
       "      <th>engine_displacement</th>\n",
       "      <th>horsepower</th>\n",
       "      <th>vehicle_weight</th>\n",
       "      <th>model_year</th>\n",
       "      <th>fuel_efficiency_mpg</th>\n",
       "    </tr>\n",
       "  </thead>\n",
       "  <tbody>\n",
       "    <tr>\n",
       "      <th>0</th>\n",
       "      <td>170</td>\n",
       "      <td>159.0</td>\n",
       "      <td>3413.433759</td>\n",
       "      <td>2003</td>\n",
       "      <td>13.231729</td>\n",
       "    </tr>\n",
       "    <tr>\n",
       "      <th>1</th>\n",
       "      <td>130</td>\n",
       "      <td>97.0</td>\n",
       "      <td>3149.664934</td>\n",
       "      <td>2007</td>\n",
       "      <td>13.688217</td>\n",
       "    </tr>\n",
       "    <tr>\n",
       "      <th>2</th>\n",
       "      <td>170</td>\n",
       "      <td>78.0</td>\n",
       "      <td>3079.038997</td>\n",
       "      <td>2018</td>\n",
       "      <td>14.246341</td>\n",
       "    </tr>\n",
       "    <tr>\n",
       "      <th>3</th>\n",
       "      <td>220</td>\n",
       "      <td>NaN</td>\n",
       "      <td>2542.392402</td>\n",
       "      <td>2009</td>\n",
       "      <td>16.912736</td>\n",
       "    </tr>\n",
       "    <tr>\n",
       "      <th>4</th>\n",
       "      <td>210</td>\n",
       "      <td>140.0</td>\n",
       "      <td>3460.870990</td>\n",
       "      <td>2009</td>\n",
       "      <td>12.488369</td>\n",
       "    </tr>\n",
       "    <tr>\n",
       "      <th>...</th>\n",
       "      <td>...</td>\n",
       "      <td>...</td>\n",
       "      <td>...</td>\n",
       "      <td>...</td>\n",
       "      <td>...</td>\n",
       "    </tr>\n",
       "    <tr>\n",
       "      <th>9699</th>\n",
       "      <td>140</td>\n",
       "      <td>164.0</td>\n",
       "      <td>2981.107371</td>\n",
       "      <td>2013</td>\n",
       "      <td>15.101802</td>\n",
       "    </tr>\n",
       "    <tr>\n",
       "      <th>9700</th>\n",
       "      <td>180</td>\n",
       "      <td>154.0</td>\n",
       "      <td>2439.525729</td>\n",
       "      <td>2004</td>\n",
       "      <td>17.962326</td>\n",
       "    </tr>\n",
       "    <tr>\n",
       "      <th>9701</th>\n",
       "      <td>220</td>\n",
       "      <td>138.0</td>\n",
       "      <td>2583.471318</td>\n",
       "      <td>2008</td>\n",
       "      <td>17.186587</td>\n",
       "    </tr>\n",
       "    <tr>\n",
       "      <th>9702</th>\n",
       "      <td>230</td>\n",
       "      <td>177.0</td>\n",
       "      <td>2905.527390</td>\n",
       "      <td>2011</td>\n",
       "      <td>15.331551</td>\n",
       "    </tr>\n",
       "    <tr>\n",
       "      <th>9703</th>\n",
       "      <td>270</td>\n",
       "      <td>140.0</td>\n",
       "      <td>2908.043477</td>\n",
       "      <td>2005</td>\n",
       "      <td>14.884467</td>\n",
       "    </tr>\n",
       "  </tbody>\n",
       "</table>\n",
       "<p>9704 rows × 5 columns</p>\n",
       "</div>"
      ],
      "text/plain": [
       "      engine_displacement  horsepower  vehicle_weight  model_year  \\\n",
       "0                     170       159.0     3413.433759        2003   \n",
       "1                     130        97.0     3149.664934        2007   \n",
       "2                     170        78.0     3079.038997        2018   \n",
       "3                     220         NaN     2542.392402        2009   \n",
       "4                     210       140.0     3460.870990        2009   \n",
       "...                   ...         ...             ...         ...   \n",
       "9699                  140       164.0     2981.107371        2013   \n",
       "9700                  180       154.0     2439.525729        2004   \n",
       "9701                  220       138.0     2583.471318        2008   \n",
       "9702                  230       177.0     2905.527390        2011   \n",
       "9703                  270       140.0     2908.043477        2005   \n",
       "\n",
       "      fuel_efficiency_mpg  \n",
       "0               13.231729  \n",
       "1               13.688217  \n",
       "2               14.246341  \n",
       "3               16.912736  \n",
       "4               12.488369  \n",
       "...                   ...  \n",
       "9699            15.101802  \n",
       "9700            17.962326  \n",
       "9701            17.186587  \n",
       "9702            15.331551  \n",
       "9703            14.884467  \n",
       "\n",
       "[9704 rows x 5 columns]"
      ]
     },
     "execution_count": 130,
     "metadata": {},
     "output_type": "execute_result"
    }
   ],
   "source": [
    "# Read car_fuel_efficiency.csv\n",
    "cfe_raw_data = pd.read_csv(\"car_fuel_efficiency.csv\")\n",
    "cfe_raw_data = cfe_raw_data[['engine_displacement', 'horsepower','vehicle_weight', 'model_year','fuel_efficiency_mpg']]\n",
    "cfe_raw_data"
   ]
  },
  {
   "cell_type": "markdown",
   "id": "3e0751a4",
   "metadata": {},
   "source": [
    "# Question 1. Missing values"
   ]
  },
  {
   "cell_type": "code",
   "execution_count": 131,
   "id": "af714892",
   "metadata": {},
   "outputs": [
    {
     "data": {
      "text/plain": [
       "engine_displacement      0\n",
       "horsepower             708\n",
       "vehicle_weight           0\n",
       "model_year               0\n",
       "fuel_efficiency_mpg      0\n",
       "dtype: int64"
      ]
     },
     "execution_count": 131,
     "metadata": {},
     "output_type": "execute_result"
    }
   ],
   "source": [
    "cfe_raw_data.isnull().sum()"
   ]
  },
  {
   "cell_type": "markdown",
   "id": "39506bf2",
   "metadata": {},
   "source": [
    "# Question 2. Median for horse power"
   ]
  },
  {
   "cell_type": "code",
   "execution_count": 132,
   "id": "d684a072",
   "metadata": {},
   "outputs": [
    {
     "data": {
      "text/plain": [
       "np.float64(nan)"
      ]
     },
     "execution_count": 132,
     "metadata": {},
     "output_type": "execute_result"
    }
   ],
   "source": [
    "np.median(cfe_raw_data[\"horsepower\"])"
   ]
  },
  {
   "cell_type": "code",
   "execution_count": 133,
   "id": "def2ff43",
   "metadata": {},
   "outputs": [
    {
     "data": {
      "text/plain": [
       "np.float64(149.65729212983547)"
      ]
     },
     "execution_count": 133,
     "metadata": {},
     "output_type": "execute_result"
    }
   ],
   "source": [
    "cfe_raw_data[\"horsepower\"].mean() # ignoring NaN"
   ]
  },
  {
   "cell_type": "markdown",
   "id": "e6ac2b3a",
   "metadata": {},
   "source": [
    "# Prepare data"
   ]
  },
  {
   "cell_type": "code",
   "execution_count": 134,
   "id": "22c8995d",
   "metadata": {},
   "outputs": [],
   "source": [
    "n = len(cfe_raw_data)\n",
    "\n",
    "n_val = int(n* 0.2) \n",
    "n_test = int(n* 0.2) \n",
    "n_train = int(n * 0.6)"
   ]
  },
  {
   "cell_type": "code",
   "execution_count": 135,
   "id": "dea79258",
   "metadata": {},
   "outputs": [
    {
     "data": {
      "text/plain": [
       "(5822, 1940, 1940)"
      ]
     },
     "execution_count": 135,
     "metadata": {},
     "output_type": "execute_result"
    }
   ],
   "source": [
    "n_train, n_val, n_test"
   ]
  },
  {
   "cell_type": "code",
   "execution_count": 136,
   "id": "ca8c0026",
   "metadata": {},
   "outputs": [],
   "source": [
    "idx = np.arange(n)\n",
    "np.random.seed(42)\n",
    "np.random.shuffle(idx)\n",
    "\n",
    "\n",
    "car_data_train = cfe_raw_data.iloc[idx[:n_train]]\n",
    "car_data_val = cfe_raw_data.iloc[idx[n_train:n_train+n_val]]\n",
    "car_data_test = cfe_raw_data.iloc[idx[n_train+n_val:]]"
   ]
  },
  {
   "cell_type": "code",
   "execution_count": 137,
   "id": "123f65de",
   "metadata": {},
   "outputs": [],
   "source": [
    "\n",
    "y_train = np.log1p(car_data_train.fuel_efficiency_mpg.values)\n",
    "y_val = np.log1p(car_data_val.fuel_efficiency_mpg.values)\n",
    "y_test = np.log1p(car_data_test.fuel_efficiency_mpg.values)"
   ]
  },
  {
   "cell_type": "code",
   "execution_count": 138,
   "id": "6191b523",
   "metadata": {},
   "outputs": [],
   "source": [
    "del car_data_train['fuel_efficiency_mpg']\n",
    "del car_data_val['fuel_efficiency_mpg']\n",
    "del car_data_test['fuel_efficiency_mpg']"
   ]
  },
  {
   "cell_type": "code",
   "execution_count": 139,
   "id": "4f973809",
   "metadata": {},
   "outputs": [
    {
     "data": {
      "text/plain": [
       "5822"
      ]
     },
     "execution_count": 139,
     "metadata": {},
     "output_type": "execute_result"
    }
   ],
   "source": [
    "len(y_train)"
   ]
  },
  {
   "cell_type": "code",
   "execution_count": 140,
   "id": "fd71f5cf",
   "metadata": {},
   "outputs": [],
   "source": [
    "def train_linear_regression(X, y):\n",
    "    ones = np.ones(X.shape[0])\n",
    "    X = np.column_stack([ones, X])\n",
    "\n",
    "    XTX = X.T.dot(X)\n",
    "    XTX_inv = np.linalg.inv(XTX)\n",
    "    w_full = XTX_inv.dot(X.T).dot(y)\n",
    "    \n",
    "    return w_full[0], w_full[1:]"
   ]
  },
  {
   "cell_type": "code",
   "execution_count": 141,
   "id": "eb20404e",
   "metadata": {},
   "outputs": [],
   "source": [
    "def rmse(y, y_pred):\n",
    "    error = y_pred - y\n",
    "    mse = (error ** 2).mean()\n",
    "    return np.sqrt(mse)"
   ]
  },
  {
   "cell_type": "markdown",
   "id": "51f5ed1a",
   "metadata": {},
   "source": [
    "# Question 3. Filling NAs"
   ]
  },
  {
   "cell_type": "code",
   "execution_count": 142,
   "id": "aa0de5a1",
   "metadata": {},
   "outputs": [
    {
     "data": {
      "text/plain": [
       "engine_displacement      int64\n",
       "horsepower             float64\n",
       "vehicle_weight         float64\n",
       "model_year               int64\n",
       "dtype: object"
      ]
     },
     "execution_count": 142,
     "metadata": {},
     "output_type": "execute_result"
    }
   ],
   "source": [
    "car_data_train.dtypes"
   ]
  },
  {
   "cell_type": "code",
   "execution_count": 143,
   "id": "b0f7335e",
   "metadata": {},
   "outputs": [
    {
     "data": {
      "text/html": [
       "<div>\n",
       "<style scoped>\n",
       "    .dataframe tbody tr th:only-of-type {\n",
       "        vertical-align: middle;\n",
       "    }\n",
       "\n",
       "    .dataframe tbody tr th {\n",
       "        vertical-align: top;\n",
       "    }\n",
       "\n",
       "    .dataframe thead th {\n",
       "        text-align: right;\n",
       "    }\n",
       "</style>\n",
       "<table border=\"1\" class=\"dataframe\">\n",
       "  <thead>\n",
       "    <tr style=\"text-align: right;\">\n",
       "      <th></th>\n",
       "      <th>engine_displacement</th>\n",
       "      <th>horsepower</th>\n",
       "      <th>vehicle_weight</th>\n",
       "      <th>model_year</th>\n",
       "    </tr>\n",
       "  </thead>\n",
       "  <tbody>\n",
       "    <tr>\n",
       "      <th>483</th>\n",
       "      <td>220</td>\n",
       "      <td>144.0</td>\n",
       "      <td>2535.887591</td>\n",
       "      <td>2009</td>\n",
       "    </tr>\n",
       "    <tr>\n",
       "      <th>7506</th>\n",
       "      <td>160</td>\n",
       "      <td>141.0</td>\n",
       "      <td>2741.170484</td>\n",
       "      <td>2019</td>\n",
       "    </tr>\n",
       "    <tr>\n",
       "      <th>8795</th>\n",
       "      <td>230</td>\n",
       "      <td>155.0</td>\n",
       "      <td>2471.880237</td>\n",
       "      <td>2017</td>\n",
       "    </tr>\n",
       "    <tr>\n",
       "      <th>1688</th>\n",
       "      <td>150</td>\n",
       "      <td>206.0</td>\n",
       "      <td>3748.164469</td>\n",
       "      <td>2015</td>\n",
       "    </tr>\n",
       "    <tr>\n",
       "      <th>6217</th>\n",
       "      <td>300</td>\n",
       "      <td>111.0</td>\n",
       "      <td>2135.716359</td>\n",
       "      <td>2006</td>\n",
       "    </tr>\n",
       "    <tr>\n",
       "      <th>...</th>\n",
       "      <td>...</td>\n",
       "      <td>...</td>\n",
       "      <td>...</td>\n",
       "      <td>...</td>\n",
       "    </tr>\n",
       "    <tr>\n",
       "      <th>8387</th>\n",
       "      <td>160</td>\n",
       "      <td>111.0</td>\n",
       "      <td>3038.134712</td>\n",
       "      <td>2002</td>\n",
       "    </tr>\n",
       "    <tr>\n",
       "      <th>7331</th>\n",
       "      <td>160</td>\n",
       "      <td>157.0</td>\n",
       "      <td>2877.624938</td>\n",
       "      <td>2006</td>\n",
       "    </tr>\n",
       "    <tr>\n",
       "      <th>1696</th>\n",
       "      <td>260</td>\n",
       "      <td>139.0</td>\n",
       "      <td>2606.972984</td>\n",
       "      <td>2009</td>\n",
       "    </tr>\n",
       "    <tr>\n",
       "      <th>5685</th>\n",
       "      <td>280</td>\n",
       "      <td>132.0</td>\n",
       "      <td>4004.214323</td>\n",
       "      <td>2014</td>\n",
       "    </tr>\n",
       "    <tr>\n",
       "      <th>6735</th>\n",
       "      <td>210</td>\n",
       "      <td>152.0</td>\n",
       "      <td>2500.175687</td>\n",
       "      <td>2020</td>\n",
       "    </tr>\n",
       "  </tbody>\n",
       "</table>\n",
       "<p>5822 rows × 4 columns</p>\n",
       "</div>"
      ],
      "text/plain": [
       "      engine_displacement  horsepower  vehicle_weight  model_year\n",
       "483                   220       144.0     2535.887591        2009\n",
       "7506                  160       141.0     2741.170484        2019\n",
       "8795                  230       155.0     2471.880237        2017\n",
       "1688                  150       206.0     3748.164469        2015\n",
       "6217                  300       111.0     2135.716359        2006\n",
       "...                   ...         ...             ...         ...\n",
       "8387                  160       111.0     3038.134712        2002\n",
       "7331                  160       157.0     2877.624938        2006\n",
       "1696                  260       139.0     2606.972984        2009\n",
       "5685                  280       132.0     4004.214323        2014\n",
       "6735                  210       152.0     2500.175687        2020\n",
       "\n",
       "[5822 rows x 4 columns]"
      ]
     },
     "execution_count": 143,
     "metadata": {},
     "output_type": "execute_result"
    }
   ],
   "source": [
    "X_train = car_data_train\n",
    "X_train"
   ]
  },
  {
   "cell_type": "code",
   "execution_count": 144,
   "id": "e957cf43",
   "metadata": {},
   "outputs": [
    {
     "data": {
      "text/plain": [
       "array([2.8703359 , 2.85061269, 2.97511223, ..., 2.88837278, 2.40325308,\n",
       "       2.92279789], shape=(5822,))"
      ]
     },
     "execution_count": 144,
     "metadata": {},
     "output_type": "execute_result"
    }
   ],
   "source": [
    "y_train"
   ]
  },
  {
   "cell_type": "code",
   "execution_count": 145,
   "id": "f7a6313a",
   "metadata": {},
   "outputs": [
    {
     "data": {
      "text/plain": [
       "(np.float64(nan), array([nan, nan, nan, nan]))"
      ]
     },
     "execution_count": 145,
     "metadata": {},
     "output_type": "execute_result"
    }
   ],
   "source": [
    "train_linear_regression(X_train, y_train)"
   ]
  },
  {
   "cell_type": "code",
   "execution_count": 146,
   "id": "d2afbf63",
   "metadata": {},
   "outputs": [
    {
     "data": {
      "text/plain": [
       "engine_displacement      0\n",
       "horsepower             429\n",
       "vehicle_weight           0\n",
       "model_year               0\n",
       "dtype: int64"
      ]
     },
     "execution_count": 146,
     "metadata": {},
     "output_type": "execute_result"
    }
   ],
   "source": [
    "car_data_train.isnull().sum()"
   ]
  },
  {
   "cell_type": "markdown",
   "id": "831bb949",
   "metadata": {},
   "source": [
    "## Option 1. Fillna 0"
   ]
  },
  {
   "cell_type": "code",
   "execution_count": 147,
   "id": "fd6eadbf",
   "metadata": {},
   "outputs": [],
   "source": [
    "def prepare_X_0(df):\n",
    "    df_num = df.copy()\n",
    "    df_num[\"horsepower\"] = df_num[\"horsepower\"].fillna(0)\n",
    "    X = df_num.values\n",
    "    return X\n",
    "    "
   ]
  },
  {
   "cell_type": "code",
   "execution_count": 148,
   "id": "e6aba513",
   "metadata": {},
   "outputs": [
    {
     "data": {
      "text/plain": [
       "array([[ 220.        ,  144.        , 2535.88759124, 2009.        ],\n",
       "       [ 160.        ,  141.        , 2741.17048439, 2019.        ],\n",
       "       [ 230.        ,  155.        , 2471.88023726, 2017.        ],\n",
       "       ...,\n",
       "       [ 260.        ,  139.        , 2606.9729844 , 2009.        ],\n",
       "       [ 280.        ,  132.        , 4004.21432295, 2014.        ],\n",
       "       [ 210.        ,  152.        , 2500.17568746, 2020.        ]],\n",
       "      shape=(5822, 4))"
      ]
     },
     "execution_count": 148,
     "metadata": {},
     "output_type": "execute_result"
    }
   ],
   "source": [
    "X_train = prepare_X_0(car_data_train)\n",
    "X_train"
   ]
  },
  {
   "cell_type": "code",
   "execution_count": 149,
   "id": "0a86621e",
   "metadata": {},
   "outputs": [
    {
     "data": {
      "text/plain": [
       "np.float64(0.03909276558794462)"
      ]
     },
     "execution_count": 149,
     "metadata": {},
     "output_type": "execute_result"
    }
   ],
   "source": [
    "w_0, w = train_linear_regression(X_train, y_train)\n",
    "y_pred = w_0 + X_train.dot(w)\n",
    "rmse(y_train, y_pred)"
   ]
  },
  {
   "cell_type": "code",
   "execution_count": 150,
   "id": "4b13213e",
   "metadata": {},
   "outputs": [
    {
     "data": {
      "text/plain": [
       "np.float64(0.03990506117826308)"
      ]
     },
     "execution_count": 150,
     "metadata": {},
     "output_type": "execute_result"
    }
   ],
   "source": [
    "X_val = prepare_X_0(car_data_val)\n",
    "\n",
    "w_0, w = train_linear_regression(X_val, y_val)\n",
    "y_pred = w_0 + X_val.dot(w)\n",
    "rmse(y_val, y_pred)\n"
   ]
  },
  {
   "cell_type": "markdown",
   "id": "76ba69b3",
   "metadata": {},
   "source": [
    "## Option 2. Fillna mean"
   ]
  },
  {
   "cell_type": "code",
   "execution_count": 151,
   "id": "06568777",
   "metadata": {},
   "outputs": [],
   "source": [
    "def prepare_X_mean(df):\n",
    "    df_num = df.copy()\n",
    "    mean_HP = df_num[\"horsepower\"].mean()\n",
    "    df_num[\"horsepower\"] = df_num[\"horsepower\"].fillna(mean_HP)\n",
    "    X = df_num.values\n",
    "    return X"
   ]
  },
  {
   "cell_type": "code",
   "execution_count": 152,
   "id": "5b61765f",
   "metadata": {},
   "outputs": [
    {
     "data": {
      "text/plain": [
       "array([[ 220.        ,  144.        , 2535.88759124, 2009.        ],\n",
       "       [ 160.        ,  141.        , 2741.17048439, 2019.        ],\n",
       "       [ 230.        ,  155.        , 2471.88023726, 2017.        ],\n",
       "       ...,\n",
       "       [ 260.        ,  139.        , 2606.9729844 , 2009.        ],\n",
       "       [ 280.        ,  132.        , 4004.21432295, 2014.        ],\n",
       "       [ 210.        ,  152.        , 2500.17568746, 2020.        ]],\n",
       "      shape=(5822, 4))"
      ]
     },
     "execution_count": 152,
     "metadata": {},
     "output_type": "execute_result"
    }
   ],
   "source": [
    "X_train = prepare_X_mean(car_data_train)\n",
    "X_train"
   ]
  },
  {
   "cell_type": "code",
   "execution_count": 153,
   "id": "74ce3cd4",
   "metadata": {},
   "outputs": [
    {
     "data": {
      "text/plain": [
       "np.float64(0.03581670894125062)"
      ]
     },
     "execution_count": 153,
     "metadata": {},
     "output_type": "execute_result"
    }
   ],
   "source": [
    "w_0, w = train_linear_regression(X_train, y_train)\n",
    "y_pred = w_0 + X_train.dot(w)\n",
    "rmse(y_train, y_pred)"
   ]
  },
  {
   "cell_type": "code",
   "execution_count": 154,
   "id": "b25a2a8e",
   "metadata": {},
   "outputs": [
    {
     "data": {
      "text/plain": [
       "np.float64(0.03728585390515352)"
      ]
     },
     "execution_count": 154,
     "metadata": {},
     "output_type": "execute_result"
    }
   ],
   "source": [
    "X_val = prepare_X_mean(car_data_val)\n",
    "\n",
    "w_0, w = train_linear_regression(X_val, y_val)\n",
    "y_pred = w_0 + X_val.dot(w)\n",
    "rmse(y_val, y_pred)"
   ]
  },
  {
   "cell_type": "markdown",
   "id": "706602fb",
   "metadata": {},
   "source": [
    "# Question 4. Best regularization "
   ]
  },
  {
   "cell_type": "code",
   "execution_count": 155,
   "id": "b10274a2",
   "metadata": {},
   "outputs": [],
   "source": [
    "def train_linear_regression_reg(X, y, r=0.0):\n",
    "    ones = np.ones(X.shape[0])\n",
    "    X = np.column_stack([ones, X])\n",
    "\n",
    "    XTX = X.T.dot(X)\n",
    "    reg = r * np.eye(XTX.shape[0])\n",
    "    XTX = XTX + reg\n",
    "\n",
    "    XTX_inv = np.linalg.inv(XTX)\n",
    "    w = XTX_inv.dot(X.T).dot(y)\n",
    "    \n",
    "    return w[0], w[1:]"
   ]
  },
  {
   "cell_type": "code",
   "execution_count": 156,
   "id": "21379fd7",
   "metadata": {},
   "outputs": [],
   "source": [
    "X_train = prepare_X_0(car_data_train)\n"
   ]
  },
  {
   "cell_type": "code",
   "execution_count": 157,
   "id": "ef0b1416",
   "metadata": {},
   "outputs": [
    {
     "name": "stdout",
     "output_type": "stream",
     "text": [
      "0 3.665576873560184 0.04\n",
      "0.01 3.169350835540468 0.04\n",
      "0.1 1.42868384941689 0.04\n",
      "1 0.220062722162232 0.04\n",
      "5 0.046233733531194 0.04\n",
      "10 0.023264028199729 0.04\n",
      "100 0.002340587309107 0.04\n"
     ]
    }
   ],
   "source": [
    "for r in [0, 0.01, 0.1, 1, 5, 10, 100]:\n",
    "    w_0, w = train_linear_regression_reg(X_train, y_train, r=r)\n",
    "\n",
    "    X_val = prepare_X_0(car_data_val)\n",
    "    y_pred = w_0 + X_val.dot(w)\n",
    "    score = rmse(y_val, y_pred)\n",
    "    print(r, round(w_0,15), round(score, 2))\n",
    "    "
   ]
  },
  {
   "cell_type": "markdown",
   "id": "68659e2c",
   "metadata": {},
   "source": [
    "# Question 5. RMSE Standard Deviation "
   ]
  },
  {
   "cell_type": "code",
   "execution_count": 158,
   "id": "8516f433",
   "metadata": {},
   "outputs": [],
   "source": [
    "np.random.seed(42)"
   ]
  },
  {
   "cell_type": "code",
   "execution_count": 159,
   "id": "6435ad3a",
   "metadata": {},
   "outputs": [
    {
     "name": "stdout",
     "output_type": "stream",
     "text": [
      "0.001\n"
     ]
    }
   ],
   "source": [
    "def RMSE_sd(raw_data, seed):\n",
    "    n = len(raw_data)\n",
    "    idx = np.arange(n)\n",
    "    np.random.seed(seed)\n",
    "    np.random.shuffle(idx)\n",
    "\n",
    "    car_data_train = cfe_raw_data.iloc[idx[:n_train]]\n",
    "    car_data_val = cfe_raw_data.iloc[idx[n_train:n_train+n_val]]\n",
    "    car_data_test = cfe_raw_data.iloc[idx[n_train+n_val:]]\n",
    "\n",
    "    y_train = np.log1p(car_data_train.fuel_efficiency_mpg.values)\n",
    "    y_val = np.log1p(car_data_val.fuel_efficiency_mpg.values)\n",
    "    y_test = np.log1p(car_data_test.fuel_efficiency_mpg.values)\n",
    "\n",
    "    del car_data_train['fuel_efficiency_mpg']\n",
    "    del car_data_val['fuel_efficiency_mpg']\n",
    "    del car_data_test['fuel_efficiency_mpg']\n",
    "\n",
    "    X_train = prepare_X_0(car_data_train)\n",
    "    X_val = prepare_X_0(car_data_val)\n",
    "    X_test = prepare_X_0(car_data_test)\n",
    "\n",
    "\n",
    "    w_0, w = train_linear_regression(X_val, y_val)\n",
    "    y_pred = w_0 + X_val.dot(w)\n",
    "    score_val = rmse(y_val, y_pred)\n",
    "\n",
    "    return score_val\n",
    "\n",
    "all_scores = []\n",
    "for s in [0, 1, 2, 3, 4, 5, 6, 7, 8, 9]:\n",
    "    score = RMSE_sd(raw_data=cfe_raw_data, seed=s)\n",
    "    all_scores.append(score)\n",
    "std = np.std(all_scores)\n",
    "print(round(std, 3))"
   ]
  },
  {
   "cell_type": "markdown",
   "id": "cfd49888",
   "metadata": {},
   "source": [
    "# Question 6. Evaluation on test"
   ]
  },
  {
   "cell_type": "code",
   "execution_count": 170,
   "id": "07e9870a",
   "metadata": {},
   "outputs": [
    {
     "name": "stdout",
     "output_type": "stream",
     "text": [
      "Test RMSE without log transform: 0.5155043369325081\n"
     ]
    }
   ],
   "source": [
    "def evaluation_raw_target(raw_data, seed=9):\n",
    "    n = len(raw_data)\n",
    "    idx = np.arange(n)\n",
    "    np.random.seed(seed)\n",
    "    np.random.shuffle(idx)\n",
    "\n",
    "    car_train = raw_data.iloc[idx[:n_train]].copy()\n",
    "    car_val   = raw_data.iloc[idx[n_train:n_train+n_val]].copy()\n",
    "    car_test  = raw_data.iloc[idx[n_train+n_val:]].copy()\n",
    "\n",
    "    # === NO log transform here ===\n",
    "    y_train = car_train.pop('fuel_efficiency_mpg').values\n",
    "    y_val   = car_val.pop('fuel_efficiency_mpg').values\n",
    "    y_test  = car_test.pop('fuel_efficiency_mpg').values\n",
    "\n",
    "    # combine train+val, fill NAs with 0 as required\n",
    "    full_train = pd.concat([car_train, car_val], ignore_index=True).fillna(0)\n",
    "    car_test   = car_test.fillna(0)\n",
    "\n",
    "    X_full = prepare_X_0(full_train)\n",
    "    X_test = prepare_X_0(car_test)\n",
    "\n",
    "    # train once with r=0.001 on full train\n",
    "    w0, w = train_linear_regression_reg(X_full, np.concatenate([y_train, y_val]), r=0.001)\n",
    "\n",
    "    # predict & evaluate directly in original units\n",
    "    y_pred_test = w0 + X_test.dot(w)\n",
    "    return rmse(y_test, y_pred_test)\n",
    "\n",
    "rmse_test_raw = evaluation_raw_target(cfe_raw_data, seed=9)\n",
    "print(f\"Test RMSE without log transform: {rmse_test_raw}\")\n"
   ]
  }
 ],
 "metadata": {
  "kernelspec": {
   "display_name": "Python 3",
   "language": "python",
   "name": "python3"
  },
  "language_info": {
   "codemirror_mode": {
    "name": "ipython",
    "version": 3
   },
   "file_extension": ".py",
   "mimetype": "text/x-python",
   "name": "python",
   "nbconvert_exporter": "python",
   "pygments_lexer": "ipython3",
   "version": "3.13.7"
  }
 },
 "nbformat": 4,
 "nbformat_minor": 5
}
